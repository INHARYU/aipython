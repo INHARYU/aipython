{
  "nbformat": 4,
  "nbformat_minor": 0,
  "metadata": {
    "colab": {
      "provenance": [],
      "authorship_tag": "ABX9TyNo26Z5tVX2ZTG8jG/pFiEW",
      "include_colab_link": true
    },
    "kernelspec": {
      "name": "python3",
      "display_name": "Python 3"
    },
    "language_info": {
      "name": "python"
    }
  },
  "cells": [
    {
      "cell_type": "markdown",
      "metadata": {
        "id": "view-in-github",
        "colab_type": "text"
      },
      "source": [
        "<a href=\"https://colab.research.google.com/github/INHARYU/aipython/blob/main/2024_04_19_AI%ED%8C%8C%EC%9D%B4%EC%8D%AC.ipynb\" target=\"_parent\"><img src=\"https://colab.research.google.com/assets/colab-badge.svg\" alt=\"Open In Colab\"/></a>"
      ]
    },
    {
      "cell_type": "markdown",
      "source": [
        "자료구조: 데이터를 저장하고 처리하기 위한 그 방법.\n",
        "파이썬에서는 4가지 제공, 리스트, 튜플, 세트, 딕셔너리\n",
        "가장 대표적인 구조가 리스트.\n",
        "\n",
        "2차원 리스트, 첫번째 괄호를 열고 첫번째 행에 해당하는 요소를 적고, 두번째 행에 해당하는 괄호를 넣는다.\n",
        "\n",
        "0부터 3까지 총 4회 반복\n",
        "외부포문은 행의 반복, 내부 판목은 열의 반복.\n",
        "외부가 0일때 내부는 0부터 3까지\n",
        "0.0 0.1 0.2 0.3 이렇게 반복된다.\n",
        "r이 0일 때 c는 0에서 3까지"
      ],
      "metadata": {
        "id": "V0uaIJzO5KEj"
      }
    },
    {
      "cell_type": "code",
      "execution_count": null,
      "metadata": {
        "colab": {
          "base_uri": "https://localhost:8080/"
        },
        "id": "YWEpYyfE5CPY",
        "outputId": "3980dc0e-2bf0-47f1-d735-42b55312f01d"
      },
      "outputs": [
        {
          "output_type": "stream",
          "name": "stdout",
          "text": [
            "29 28 27 30 \n",
            "30 20 27 29 \n",
            "23 25 29 30 \n"
          ]
        }
      ],
      "source": [
        "#예제1: 인덱스를 가져오기\n",
        "score= [[29, 28, 27, 30],\n",
        "[30, 20, 27, 29],\n",
        "[23, 25, 29, 30]]\n",
        "for r in range(3):\n",
        "  for c in range(4):\n",
        "    print(score[r][c], end=\" \")\n",
        "  print()\n"
      ]
    },
    {
      "cell_type": "code",
      "source": [
        "#예제2는 1차원 리스트를 갖고와서 하는 것\n",
        "score= [[29, 28, 27, 30],\n",
        "[30, 20, 27, 29],\n",
        "[23, 25, 29, 30]]\n",
        "for sc in score:\n",
        "  for c in sc:\n",
        "    print(c, end=\" \")\n",
        "  print()\n"
      ],
      "metadata": {
        "colab": {
          "base_uri": "https://localhost:8080/"
        },
        "id": "NLYjYwXz7BNz",
        "outputId": "0a3f49a4-1db6-44c3-bd2f-8aad98267b70"
      },
      "execution_count": null,
      "outputs": [
        {
          "output_type": "stream",
          "name": "stdout",
          "text": [
            "29 28 27 30 \n",
            "30 20 27 29 \n",
            "23 25 29 30 \n"
          ]
        }
      ]
    },
    {
      "cell_type": "code",
      "source": [
        "#예제3 하나의 리스트를 갖고와서 각각 가져오기.\n",
        "score= [[29, 28, 27, 30],\n",
        "[30, 20, 27, 29],\n",
        "[23, 25, 29, 30]]\n",
        "for c1,c2,c3,c4 in score:\n",
        "  print(c1, c2, c3,c4)\n"
      ],
      "metadata": {
        "colab": {
          "base_uri": "https://localhost:8080/"
        },
        "id": "b7htlM3r7Sja",
        "outputId": "653d7ac0-ae43-473f-ba6b-5aaf5f5153cc"
      },
      "execution_count": null,
      "outputs": [
        {
          "output_type": "stream",
          "name": "stdout",
          "text": [
            "29 28 27 30\n",
            "30 20 27 29\n",
            "23 25 29 30\n"
          ]
        }
      ]
    },
    {
      "cell_type": "markdown",
      "source": [
        "튜플은 소괄호 사용, 항목값 변경 안됨.\n"
      ],
      "metadata": {
        "id": "JAl7RHnM7cqK"
      }
    },
    {
      "cell_type": "markdown",
      "source": [
        "딕셔너리를 일반적으로 출력하면 키값를 가져오고,\n",
        "[]를 이용하면 값을 가져온다."
      ],
      "metadata": {
        "id": "DYQLi7-D70Wy"
      }
    },
    {
      "cell_type": "markdown",
      "source": [
        "반복 for 문은 반복의 횟수를 정해놓고 사용할 때 쓴다\n",
        "range도 정해져 있다. 그러나 while은 정해져 있지 않다.\n",
        "while 조건식 :"
      ],
      "metadata": {
        "id": "OHYlmN29-zYo"
      }
    },
    {
      "cell_type": "code",
      "source": [
        "#과제\n",
        "score = []\n",
        "while value = input(\"값을 입력하세요:\")\n",
        "  if value.isdigit():\n",
        "    score.append(value)\n",
        "  else:\n",
        "\n",
        "\n",
        "\n",
        "print(\"합계:\", sum(score))\n",
        "print(\"인원수:\", score.index())\n",
        "print(\"평균:\", sum(score)//score.index())"
      ],
      "metadata": {
        "colab": {
          "base_uri": "https://localhost:8080/",
          "height": 110
        },
        "id": "GEgLArKu7W5y",
        "outputId": "ae23a013-b0c5-4e96-bf2b-101135491065"
      },
      "execution_count": null,
      "outputs": [
        {
          "output_type": "error",
          "ename": "SyntaxError",
          "evalue": "invalid syntax. Maybe you meant '==' or ':=' instead of '='? (<ipython-input-12-05887da8653e>, line 3)",
          "traceback": [
            "\u001b[0;36m  File \u001b[0;32m\"<ipython-input-12-05887da8653e>\"\u001b[0;36m, line \u001b[0;32m3\u001b[0m\n\u001b[0;31m    while value = input(\"값을 입력하세요:\")\u001b[0m\n\u001b[0m          ^\u001b[0m\n\u001b[0;31mSyntaxError\u001b[0m\u001b[0;31m:\u001b[0m invalid syntax. Maybe you meant '==' or ':=' instead of '='?\n"
          ]
        }
      ]
    },
    {
      "cell_type": "code",
      "source": [
        "#과제 모범답안\n",
        "scores = []\n",
        "while True:\n",
        "  score = input(\"학생의 점수를 입력하세요.:\")\n",
        "  if score.isdigit():\n",
        "    scores.append(int(score))\n",
        "  else:\n",
        "    break\n",
        "print(scores)\n",
        "print(\"합계:\", sum(scores))\n",
        "print(\"인원수:\", len(scores))\n",
        "print(\"평균:\", sum(scores)/ len(scores))"
      ],
      "metadata": {
        "colab": {
          "base_uri": "https://localhost:8080/"
        },
        "id": "u_G9N9-G8vZp",
        "outputId": "b816efee-7f56-4cc7-87b4-889c1e5c361b"
      },
      "execution_count": null,
      "outputs": [
        {
          "output_type": "stream",
          "name": "stdout",
          "text": [
            "학생의 점수를 입력하세요.:30\n",
            "학생의 점수를 입력하세요.:40\n",
            "학생의 점수를 입력하세요.:50\n",
            "학생의 점수를 입력하세요.:ㅌ\n",
            "[30, 40, 50]\n",
            "합계: 120\n",
            "인원수: 3\n",
            "평균: 40.0\n"
          ]
        }
      ]
    },
    {
      "cell_type": "code",
      "source": [
        "# oj에서 바로 코딩해도 무방. 코드를 제출 할 때 oj에도 제출하고 나중에 플라토에도 제출해야함.\n",
        "# vscode에서 확장자는 .py 중요"
      ],
      "metadata": {
        "id": "S5Y_Z56I8-3P"
      },
      "execution_count": null,
      "outputs": []
    },
    {
      "cell_type": "code",
      "source": [
        "input1 = \"apple#banana#cerry#orange\"  # Define the string\n",
        "result = input1.split(\"#\")            # Split the string into a list using '#' as the delimiter\n",
        "print(result)                          # Print the resulting list"
      ],
      "metadata": {
        "colab": {
          "base_uri": "https://localhost:8080/"
        },
        "id": "7ldea01DGYxd",
        "outputId": "0617a9ac-370c-4015-81a1-ec486e733795"
      },
      "execution_count": null,
      "outputs": [
        {
          "output_type": "stream",
          "name": "stdout",
          "text": [
            "['apple', 'banana', 'cerry', 'orange']\n"
          ]
        }
      ]
    },
    {
      "cell_type": "markdown",
      "source": [
        "문자열을 리스트로 바꾸는 건 split\n",
        "리스트를 문자열로 바꾸는 건 join"
      ],
      "metadata": {
        "id": "0wFxJKINGz-P"
      }
    },
    {
      "cell_type": "code",
      "source": [
        "name = (\"Python\", \"Java\", \"Ruby\")\n",
        "x = \"->\".join(name)\n",
        "print(x)"
      ],
      "metadata": {
        "colab": {
          "base_uri": "https://localhost:8080/"
        },
        "id": "gMcXKqiGIEFV",
        "outputId": "4cd962f6-22ae-4d47-b264-1bb64d157d22"
      },
      "execution_count": null,
      "outputs": [
        {
          "output_type": "stream",
          "name": "stdout",
          "text": [
            "Python->Java->Ruby\n"
          ]
        }
      ]
    },
    {
      "cell_type": "code",
      "source": [
        "#리스트 컴퍼레이션(리스트를 한줄 짜리로 만들어주는 명령, if는 선택사항)\n",
        "number_list = [x**2 for x in range(10)]\n",
        "print(number_list)"
      ],
      "metadata": {
        "id": "_-upXGg3GY99"
      },
      "execution_count": null,
      "outputs": []
    },
    {
      "cell_type": "code",
      "source": [
        "number_list = [x**2 for x in range(10) if x%2==0]\n",
        "print(number_list)"
      ],
      "metadata": {
        "colab": {
          "base_uri": "https://localhost:8080/"
        },
        "id": "3FJEKfZEJrwE",
        "outputId": "7ce98bb0-a29b-499e-95f3-192cfa3e98f8"
      },
      "execution_count": null,
      "outputs": [
        {
          "output_type": "stream",
          "name": "stdout",
          "text": [
            "[0, 4, 16, 36, 64]\n"
          ]
        }
      ]
    },
    {
      "cell_type": "code",
      "source": [
        "n_list = [n for n in range(1,11) if n%2==0]\n",
        "print(n_list)\n",
        "\n",
        "citys =  [\"Seoul\", \"New York\", \"London\", \"Shanghai\", \"Paris\", \"Tokyo\"]\n",
        "city_list = [city for city in citys if city.startswith('S')]\n",
        "print(city_list)\n",
        "# 요소를 체크해야 하기 때문에 .startswith에 citys가 아닌 city가 들어가야함."
      ],
      "metadata": {
        "id": "YFwJsnyJJsMM"
      },
      "execution_count": null,
      "outputs": []
    },
    {
      "cell_type": "code",
      "source": [
        "#lambda 이름없는 함수를 정의할 때 사용\n",
        "x = lambda a: a % 2 == 0\n",
        "numbers= [1,2,3,4,5,6,7,8,9,10]\n",
        "print(x(numbers))\n"
      ],
      "metadata": {
        "colab": {
          "base_uri": "https://localhost:8080/",
          "height": 294
        },
        "id": "uT3g_xGzOQ3z",
        "outputId": "cd4501bd-c474-4a57-9c6c-3b77b0b3f627"
      },
      "execution_count": null,
      "outputs": [
        {
          "output_type": "error",
          "ename": "TypeError",
          "evalue": "unsupported operand type(s) for %: 'list' and 'int'",
          "traceback": [
            "\u001b[0;31m---------------------------------------------------------------------------\u001b[0m",
            "\u001b[0;31mTypeError\u001b[0m                                 Traceback (most recent call last)",
            "\u001b[0;32m<ipython-input-42-9c4be820fca8>\u001b[0m in \u001b[0;36m<cell line: 4>\u001b[0;34m()\u001b[0m\n\u001b[1;32m      2\u001b[0m \u001b[0mx\u001b[0m \u001b[0;34m=\u001b[0m \u001b[0;32mlambda\u001b[0m \u001b[0ma\u001b[0m\u001b[0;34m:\u001b[0m \u001b[0ma\u001b[0m \u001b[0;34m%\u001b[0m \u001b[0;36m2\u001b[0m \u001b[0;34m==\u001b[0m \u001b[0;36m0\u001b[0m\u001b[0;34m\u001b[0m\u001b[0;34m\u001b[0m\u001b[0m\n\u001b[1;32m      3\u001b[0m \u001b[0mnumbers\u001b[0m\u001b[0;34m=\u001b[0m \u001b[0;34m[\u001b[0m\u001b[0;36m1\u001b[0m\u001b[0;34m,\u001b[0m\u001b[0;36m2\u001b[0m\u001b[0;34m,\u001b[0m\u001b[0;36m3\u001b[0m\u001b[0;34m,\u001b[0m\u001b[0;36m4\u001b[0m\u001b[0;34m,\u001b[0m\u001b[0;36m5\u001b[0m\u001b[0;34m,\u001b[0m\u001b[0;36m6\u001b[0m\u001b[0;34m,\u001b[0m\u001b[0;36m7\u001b[0m\u001b[0;34m,\u001b[0m\u001b[0;36m8\u001b[0m\u001b[0;34m,\u001b[0m\u001b[0;36m9\u001b[0m\u001b[0;34m,\u001b[0m\u001b[0;36m10\u001b[0m\u001b[0;34m]\u001b[0m\u001b[0;34m\u001b[0m\u001b[0;34m\u001b[0m\u001b[0m\n\u001b[0;32m----> 4\u001b[0;31m \u001b[0mprint\u001b[0m\u001b[0;34m(\u001b[0m\u001b[0mx\u001b[0m\u001b[0;34m(\u001b[0m\u001b[0mnumbers\u001b[0m\u001b[0;34m)\u001b[0m\u001b[0;34m)\u001b[0m\u001b[0;34m\u001b[0m\u001b[0;34m\u001b[0m\u001b[0m\n\u001b[0m",
            "\u001b[0;32m<ipython-input-42-9c4be820fca8>\u001b[0m in \u001b[0;36m<lambda>\u001b[0;34m(a)\u001b[0m\n\u001b[1;32m      1\u001b[0m \u001b[0;31m#lambda 이름없는 함수를 정의할 때 사용\u001b[0m\u001b[0;34m\u001b[0m\u001b[0;34m\u001b[0m\u001b[0m\n\u001b[0;32m----> 2\u001b[0;31m \u001b[0mx\u001b[0m \u001b[0;34m=\u001b[0m \u001b[0;32mlambda\u001b[0m \u001b[0ma\u001b[0m\u001b[0;34m:\u001b[0m \u001b[0ma\u001b[0m \u001b[0;34m%\u001b[0m \u001b[0;36m2\u001b[0m \u001b[0;34m==\u001b[0m \u001b[0;36m0\u001b[0m\u001b[0;34m\u001b[0m\u001b[0;34m\u001b[0m\u001b[0m\n\u001b[0m\u001b[1;32m      3\u001b[0m \u001b[0mnumbers\u001b[0m\u001b[0;34m=\u001b[0m \u001b[0;34m[\u001b[0m\u001b[0;36m1\u001b[0m\u001b[0;34m,\u001b[0m\u001b[0;36m2\u001b[0m\u001b[0;34m,\u001b[0m\u001b[0;36m3\u001b[0m\u001b[0;34m,\u001b[0m\u001b[0;36m4\u001b[0m\u001b[0;34m,\u001b[0m\u001b[0;36m5\u001b[0m\u001b[0;34m,\u001b[0m\u001b[0;36m6\u001b[0m\u001b[0;34m,\u001b[0m\u001b[0;36m7\u001b[0m\u001b[0;34m,\u001b[0m\u001b[0;36m8\u001b[0m\u001b[0;34m,\u001b[0m\u001b[0;36m9\u001b[0m\u001b[0;34m,\u001b[0m\u001b[0;36m10\u001b[0m\u001b[0;34m]\u001b[0m\u001b[0;34m\u001b[0m\u001b[0;34m\u001b[0m\u001b[0m\n\u001b[1;32m      4\u001b[0m \u001b[0mprint\u001b[0m\u001b[0;34m(\u001b[0m\u001b[0mx\u001b[0m\u001b[0;34m(\u001b[0m\u001b[0mnumbers\u001b[0m\u001b[0;34m)\u001b[0m\u001b[0;34m)\u001b[0m\u001b[0;34m\u001b[0m\u001b[0;34m\u001b[0m\u001b[0m\n",
            "\u001b[0;31mTypeError\u001b[0m: unsupported operand type(s) for %: 'list' and 'int'"
          ]
        }
      ]
    },
    {
      "cell_type": "code",
      "source": [
        "#0부터 시작\n",
        "langs=['Python', 'Java', 'JavaScript']\n",
        "newlst=[(idx, lang) for idx, lang in enumerate(langs)]\n",
        "print(newlst)"
      ],
      "metadata": {
        "colab": {
          "base_uri": "https://localhost:8080/"
        },
        "id": "SgSmcDmNSNJx",
        "outputId": "d2f08d9e-3d30-4a8e-e720-9e73a22559dd"
      },
      "execution_count": null,
      "outputs": [
        {
          "output_type": "stream",
          "name": "stdout",
          "text": [
            "[(0, 'Python'), (1, 'Java'), (2, 'JavaScript')]\n"
          ]
        }
      ]
    },
    {
      "cell_type": "code",
      "source": [
        "pl =  ['Python', 'Java', 'JavaScript']\n",
        "for idx, pl in enumerate(pl):\n",
        "    print(idx, pl)"
      ],
      "metadata": {
        "colab": {
          "base_uri": "https://localhost:8080/"
        },
        "id": "-AJe1Bj9SZQQ",
        "outputId": "16938a9a-45dc-4573-8e37-59a97f17d3de"
      },
      "execution_count": null,
      "outputs": [
        {
          "output_type": "stream",
          "name": "stdout",
          "text": [
            "0 Python\n",
            "1 Java\n",
            "2 JavaScript\n"
          ]
        }
      ]
    },
    {
      "cell_type": "code",
      "source": [
        "langs=['Python', 'Java', 'JavaScript']\n",
        "newlst=[(idx, lang) for idx, lang in enumerate(langs,1)]\n",
        "print(newlst)"
      ],
      "metadata": {
        "colab": {
          "base_uri": "https://localhost:8080/"
        },
        "id": "7HTACLjuSXcI",
        "outputId": "a869563d-3fa5-40dd-f971-4bcc8f0eec69"
      },
      "execution_count": null,
      "outputs": [
        {
          "output_type": "stream",
          "name": "stdout",
          "text": [
            "[(1, 'Python'), (2, 'Java'), (3, 'JavaScript')]\n"
          ]
        }
      ]
    },
    {
      "cell_type": "code",
      "source": [
        "#1부터 시작\n",
        "langs=['Python', 'Java', 'JavaScript']\n",
        "newlst=[(idx, lang) for idx, lang in enumerate(langs,start=1)]\n",
        "print(newlst)"
      ],
      "metadata": {
        "colab": {
          "base_uri": "https://localhost:8080/"
        },
        "id": "cMfjvGZHSl-U",
        "outputId": "a8f33c76-5762-4461-f235-ed78c2239a9e"
      },
      "execution_count": null,
      "outputs": [
        {
          "output_type": "stream",
          "name": "stdout",
          "text": [
            "[(1, 'Python'), (2, 'Java'), (3, 'JavaScript')]\n"
          ]
        }
      ]
    },
    {
      "cell_type": "code",
      "source": [
        "# map\n",
        "def convert_to_grade(score):\n",
        "    if score >= 90:\n",
        "        return 'A'\n",
        "    elif score >= 80:\n",
        "        return 'B'\n",
        "    elif score >= 70:\n",
        "        return 'C'\n",
        "    elif score >= 60:\n",
        "        return 'D'\n",
        "    else:\n",
        "        return 'F'\n",
        "scores = [88, 92, 78, 60, 75, 95]\n",
        "mylist = list(map(convert_to_grade,scores))\n",
        "print(mylist)"
      ],
      "metadata": {
        "colab": {
          "base_uri": "https://localhost:8080/"
        },
        "id": "Z5TR5ybNSq3c",
        "outputId": "2b159f6a-db93-4bd6-af4f-461d87ba2528"
      },
      "execution_count": null,
      "outputs": [
        {
          "output_type": "stream",
          "name": "stdout",
          "text": [
            "['B', 'A', 'C', 'D', 'C', 'A']\n"
          ]
        }
      ]
    },
    {
      "cell_type": "code",
      "source": [
        "# 람다 활용\n",
        "x = lambda a: a>=18\n",
        "ages= [5, 12, 17, 18, 24, 32]\n",
        "new=list(filter(x, ages))\n",
        "print(new)"
      ],
      "metadata": {
        "id": "bb1Rk9mkTfMA"
      },
      "execution_count": null,
      "outputs": []
    },
    {
      "cell_type": "code",
      "source": [
        "x = lambda a: a>=18\n",
        "ages= [5, 12, 17, 18, 24, 32]\n",
        "new=list(filter(x, ages))\n",
        "print(new)\n",
        "\n",
        "def myfunc(x):\n",
        "    if x < 18:\n",
        "        return False\n",
        "    else:\n",
        "        return True\n",
        "\n",
        "new_ages = [5, 12, 17, 18, 24, 32]\n",
        "new_list=list(filter(myfunc,new_ages))\n",
        "print(new_list)"
      ],
      "metadata": {
        "id": "5qKTTXktTD26"
      },
      "execution_count": null,
      "outputs": []
    },
    {
      "cell_type": "code",
      "source": [
        "ages= [5, 12, 17, 18, 24, 32]\n",
        "new = list(filter(lambda age:age>=18,ages))\n",
        "print(new)"
      ],
      "metadata": {
        "colab": {
          "base_uri": "https://localhost:8080/"
        },
        "id": "LwC8i6gGWuUH",
        "outputId": "2486b523-f735-4cf5-e355-cce14e4f8d29"
      },
      "execution_count": null,
      "outputs": [
        {
          "output_type": "stream",
          "name": "stdout",
          "text": [
            "[18, 24, 32]\n"
          ]
        }
      ]
    },
    {
      "cell_type": "markdown",
      "source": [
        "시험칠 때 강의노트 허용 프린트에 필기 허용\n",
        "적어 오는거 허용\n"
      ],
      "metadata": {
        "id": "JrC9VgJJWuLH"
      }
    }
  ]
}