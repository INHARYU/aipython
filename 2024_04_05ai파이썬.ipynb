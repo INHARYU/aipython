{
  "nbformat": 4,
  "nbformat_minor": 0,
  "metadata": {
    "colab": {
      "provenance": [],
      "authorship_tag": "ABX9TyODYrSWVNRbJznbksxq+Rmy",
      "include_colab_link": true
    },
    "kernelspec": {
      "name": "python3",
      "display_name": "Python 3"
    },
    "language_info": {
      "name": "python"
    }
  },
  "cells": [
    {
      "cell_type": "markdown",
      "metadata": {
        "id": "view-in-github",
        "colab_type": "text"
      },
      "source": [
        "<a href=\"https://colab.research.google.com/github/INHARYU/aipython/blob/main/2024_04_05ai%ED%8C%8C%EC%9D%B4%EC%8D%AC.ipynb\" target=\"_parent\"><img src=\"https://colab.research.google.com/assets/colab-badge.svg\" alt=\"Open In Colab\"/></a>"
      ]
    },
    {
      "cell_type": "code",
      "execution_count": null,
      "metadata": {
        "id": "M8ihVqKI0d8p"
      },
      "outputs": [],
      "source": []
    },
    {
      "cell_type": "markdown",
      "source": [
        "비트연산자. 컴퓨터는 2진수를 사용하기 때문에 3을 표현할 때 2진수(BIN)는 0011\n",
        "8을 표현할 때 2진수는 1000\n",
        "비트는 2진수 하나하나가 비트이다.\n",
        "비트연산자는 비트 끼리의 연산. 일반적으로 비트 연산을 하지 않는다.\n"
      ],
      "metadata": {
        "id": "fbL-XWx2165c"
      }
    },
    {
      "cell_type": "markdown",
      "source": [
        "제어문 (control statements)\n",
        "파이썬에서 제어문은 프로그램의 흐름을 제어하는 데 사용됩니다. 주로 조건문과 반복문으로 구성되어 있습니다.  제어문을 사용하여 프로그램이 특정 조건에 따라 다른 동작을 수행하도록 할 수 있습니다.\n",
        "제어문은 조건에 따라 코드 블록을 실행하거나 반복하여 실행하는 등 프로그램 동작을 조절한다.\n",
        "1. 조건문\n",
        "2. 반복문\n",
        "\n",
        "코드블록은 한 단위(실행 단위)\n",
        "예를 들어 들여쓰기가 되어있는 부분, 한 줄도 가능하지만, 제어문의 들여쓰기가 되어 있는 부분이 블록이다. 해당 조건에 따라 블록이 실행된다.\n",
        "조건식이 참이면 들여쓰기 된 블록이 실행된다."
      ],
      "metadata": {
        "id": "dbpU-Is_2TC0"
      }
    },
    {
      "cell_type": "code",
      "source": [
        "# if 문 예시\n",
        "a = 10\n",
        "if a>5: #반드시 콜론을 써야 들여쓰기가 된다.\n",
        "  print(\"a는 5보다 크다\")\n",
        "print(\"프로그램종료\") #들여쓰기 된 문장과 들여쓰기 안된 문장의 차이 #3라인은 코드 블록으로 if문의 영향을 받는다."
      ],
      "metadata": {
        "colab": {
          "base_uri": "https://localhost:8080/"
        },
        "id": "XG9MEE3-3AcE",
        "outputId": "c00d19b2-5027-4b25-93c2-7b16f99e96c1"
      },
      "execution_count": 7,
      "outputs": [
        {
          "output_type": "stream",
          "name": "stdout",
          "text": [
            "a는 5보다 크다\n",
            "프로그램종료\n"
          ]
        }
      ]
    },
    {
      "cell_type": "code",
      "source": [
        "#elif 위의 조건이 만족하지 않을 때 다른 조건을 실행.\n",
        "a = 10\n",
        "if a > 5:\n",
        "  print(\"A는 5보다 크다.\")\n",
        "elif a <=5:\n",
        "  print(\"A는 5보다 작거나 같습니다.\")"
      ],
      "metadata": {
        "colab": {
          "base_uri": "https://localhost:8080/"
        },
        "id": "usI5iIZ_3tz_",
        "outputId": "4990635a-d2f0-4ce0-f68d-0f6a3c008f76"
      },
      "execution_count": 11,
      "outputs": [
        {
          "output_type": "stream",
          "name": "stdout",
          "text": [
            "A는 5보다 크다.\n"
          ]
        }
      ]
    },
    {
      "cell_type": "code",
      "source": [
        "#a에 할당된 값의 짝수 홀수 여부를 알려주는 프로그램\n",
        "a = 11\n",
        "b= a % 2\n",
        "if b == 0:\n",
        "  print(\"짝수\")\n",
        "elif b == 1:\n",
        "  print(\"홀수\")"
      ],
      "metadata": {
        "colab": {
          "base_uri": "https://localhost:8080/"
        },
        "id": "Hmq_Eu2F5M2d",
        "outputId": "2edd1a45-4c7e-4c3e-d3fe-c96bf1d50ed9"
      },
      "execution_count": 17,
      "outputs": [
        {
          "output_type": "stream",
          "name": "stdout",
          "text": [
            "홀수\n"
          ]
        }
      ]
    },
    {
      "cell_type": "code",
      "source": [
        "#\n",
        "a=10\n",
        "if a%2==0:\n",
        "  print(\"짝수\")\n",
        "elif a%2!=0:\n",
        "  print(\"홀수\")"
      ],
      "metadata": {
        "colab": {
          "base_uri": "https://localhost:8080/"
        },
        "id": "me1e27TW5vAF",
        "outputId": "b8760b13-3749-4999-ed1a-93c76d876359"
      },
      "execution_count": 20,
      "outputs": [
        {
          "output_type": "stream",
          "name": "stdout",
          "text": [
            "짝수\n"
          ]
        }
      ]
    },
    {
      "cell_type": "code",
      "source": [
        "a = 5\n",
        "if a > 5:\n",
        "  print(\"a는 5보다 크다\")\n",
        "elif a < 5:\n",
        "  print(\"a는 5보다 작다\")\n",
        "else:\n",
        "  print(\"a는 5입니다.\")"
      ],
      "metadata": {
        "colab": {
          "base_uri": "https://localhost:8080/"
        },
        "id": "lVdlqEvP6nxm",
        "outputId": "dc41a71b-2865-4254-d5eb-c33b4c2f7d1a"
      },
      "execution_count": 25,
      "outputs": [
        {
          "output_type": "stream",
          "name": "stdout",
          "text": [
            "a는 5입니다.\n"
          ]
        }
      ]
    },
    {
      "cell_type": "code",
      "source": [
        "#중첩 조건문\n",
        "a = 10\n",
        "b = 5\n",
        "if a > 5:\n",
        "  if b < 10:\n",
        "    print(\"a는 5보다 크고 b는 10보다 작습니다.\")"
      ],
      "metadata": {
        "colab": {
          "base_uri": "https://localhost:8080/"
        },
        "id": "Txwhbab67t2e",
        "outputId": "474115b4-319f-438a-9693-4c1875486574"
      },
      "execution_count": 30,
      "outputs": [
        {
          "output_type": "stream",
          "name": "stdout",
          "text": [
            "a는 5보다 크고 b는 10보다 작습니다.\n"
          ]
        }
      ]
    },
    {
      "cell_type": "code",
      "source": [
        "a = 10 #위의 중첩 조건문과 동일\n",
        "b = 5\n",
        "if a>5 and b<10:\n",
        "  print(\"a는 5보다 크고 b는 10보다 작다\")"
      ],
      "metadata": {
        "colab": {
          "base_uri": "https://localhost:8080/"
        },
        "id": "dDFe308r8uP9",
        "outputId": "d497cb0b-5791-4b00-a944-0d08e90973d7"
      },
      "execution_count": 31,
      "outputs": [
        {
          "output_type": "stream",
          "name": "stdout",
          "text": [
            "a는 5보다 크고 b는 10보다 작다\n"
          ]
        }
      ]
    },
    {
      "cell_type": "code",
      "source": [
        "a = int(input(\"0~100점수를 입력하시오\"))\n",
        "if a>= 90:\n",
        "  print(\"A\")\n",
        "elif 80<=a<90:\n",
        "  print(\"B\")\n",
        "elif 70<=a<80:\n",
        "  print(\"C\")\n",
        "elif 60<=a<70:\n",
        "  print(\"D\")\n",
        "else:\n",
        "  print(\"F\")"
      ],
      "metadata": {
        "colab": {
          "base_uri": "https://localhost:8080/"
        },
        "id": "cT3KgQvw9pzR",
        "outputId": "5fc192cb-38d9-4e82-d155-1fed05daeab0"
      },
      "execution_count": 37,
      "outputs": [
        {
          "output_type": "stream",
          "name": "stdout",
          "text": [
            "0~100점수를 입력하시오100\n",
            "A\n"
          ]
        }
      ]
    },
    {
      "cell_type": "code",
      "source": [
        "# 교수님 답안\n",
        "score = int(input(\"0~100점수를 입력하시오\"))\n",
        "if score >= 90:\n",
        "  grade = \"A\"\n",
        "elif score >= 80:\n",
        "  grade = \"B\"\n",
        "elif socre >= 70:\n",
        "  grade = \"C\"\n",
        "elif score >= 60:\n",
        "  grade = \"D\"\n",
        "else:\n",
        "  grade = \"F\"\n",
        "#순서가 바뀌면 논리 오류가 나올 수 있다."
      ],
      "metadata": {
        "colab": {
          "base_uri": "https://localhost:8080/"
        },
        "id": "c85JkiH9-PTn",
        "outputId": "3eb0e2dc-b792-4b32-d4f8-8a98a62d3553"
      },
      "execution_count": 39,
      "outputs": [
        {
          "name": "stdout",
          "output_type": "stream",
          "text": [
            "0~100점수를 입력하시오100\n"
          ]
        }
      ]
    },
    {
      "cell_type": "code",
      "source": [
        "# 반복문 for 문\n",
        "a = [1, 2, 3, 4, 5]\n",
        "for i in a:\n",
        "  print(i)\n",
        "\n",
        "#시퀀스의 요소 수 만큼 반복"
      ],
      "metadata": {
        "colab": {
          "base_uri": "https://localhost:8080/"
        },
        "id": "YHsFji90ADtM",
        "outputId": "e8f1452a-2b04-44f7-ebfc-9d0749f9aa89"
      },
      "execution_count": 40,
      "outputs": [
        {
          "output_type": "stream",
          "name": "stdout",
          "text": [
            "1\n",
            "2\n",
            "3\n",
            "4\n",
            "5\n"
          ]
        }
      ]
    },
    {
      "cell_type": "code",
      "source": [
        "a = [1, 2, 3, 4, 5]\n",
        "for i in a:\n",
        "  print(i, end='')"
      ],
      "metadata": {
        "colab": {
          "base_uri": "https://localhost:8080/"
        },
        "id": "CbRrVFSDFM05",
        "outputId": "a24aefca-e4b4-4a9f-c105-a134058bfacc"
      },
      "execution_count": 41,
      "outputs": [
        {
          "output_type": "stream",
          "name": "stdout",
          "text": [
            "12345"
          ]
        }
      ]
    },
    {
      "cell_type": "code",
      "source": [
        "a = [1, 2, 3, 4, 5]\n",
        "tot=0\n",
        "for i in a:\n",
        "  print(i)\n",
        "  tot+=i\n",
        "print(tot)"
      ],
      "metadata": {
        "colab": {
          "base_uri": "https://localhost:8080/"
        },
        "id": "LKvlSV_dFR-i",
        "outputId": "cdb7c022-0424-4d6d-c978-8cab3f637849"
      },
      "execution_count": 42,
      "outputs": [
        {
          "output_type": "stream",
          "name": "stdout",
          "text": [
            "1\n",
            "2\n",
            "3\n",
            "4\n",
            "5\n",
            "15\n"
          ]
        }
      ]
    },
    {
      "cell_type": "code",
      "source": [
        "#range 함수\n",
        "for i in range(1, 10, 2):\n",
        "  print(i)"
      ],
      "metadata": {
        "colab": {
          "base_uri": "https://localhost:8080/"
        },
        "id": "Q5QTjadHGBE6",
        "outputId": "7904ae5c-51d2-4f83-8597-0b61beb260f6"
      },
      "execution_count": 46,
      "outputs": [
        {
          "output_type": "stream",
          "name": "stdout",
          "text": [
            "1\n",
            "3\n",
            "5\n",
            "7\n",
            "9\n"
          ]
        }
      ]
    },
    {
      "cell_type": "code",
      "source": [
        "for i in range(1,11): # 스탭 생략, 생략 되면 스탭은 1\n",
        "  print(i)"
      ],
      "metadata": {
        "colab": {
          "base_uri": "https://localhost:8080/"
        },
        "id": "WhSvEDF2HFUq",
        "outputId": "f924d3a8-28b2-4829-d488-4c29179d3b67"
      },
      "execution_count": 47,
      "outputs": [
        {
          "output_type": "stream",
          "name": "stdout",
          "text": [
            "1\n",
            "2\n",
            "3\n",
            "4\n",
            "5\n",
            "6\n",
            "7\n",
            "8\n",
            "9\n",
            "10\n"
          ]
        }
      ]
    },
    {
      "cell_type": "code",
      "source": [
        "for i in range(1,11,2):\n",
        "  print(i)"
      ],
      "metadata": {
        "colab": {
          "base_uri": "https://localhost:8080/"
        },
        "id": "zbozhAHFHvRL",
        "outputId": "3fed3fd5-7f8d-4ace-c7ce-787836149fae"
      },
      "execution_count": 48,
      "outputs": [
        {
          "output_type": "stream",
          "name": "stdout",
          "text": [
            "1\n",
            "3\n",
            "5\n",
            "7\n",
            "9\n"
          ]
        }
      ]
    },
    {
      "cell_type": "code",
      "source": [
        "#1에서 100사이의 홀수만 출력\n",
        "for i in range(1,100,2):\n",
        "  print(i)"
      ],
      "metadata": {
        "colab": {
          "base_uri": "https://localhost:8080/"
        },
        "id": "p9OfzjplILxa",
        "outputId": "382c0980-e404-4c8b-83fe-bebc5904bb02"
      },
      "execution_count": 52,
      "outputs": [
        {
          "output_type": "stream",
          "name": "stdout",
          "text": [
            "1\n",
            "3\n",
            "5\n",
            "7\n",
            "9\n",
            "11\n",
            "13\n",
            "15\n",
            "17\n",
            "19\n",
            "21\n",
            "23\n",
            "25\n",
            "27\n",
            "29\n",
            "31\n",
            "33\n",
            "35\n",
            "37\n",
            "39\n",
            "41\n",
            "43\n",
            "45\n",
            "47\n",
            "49\n",
            "51\n",
            "53\n",
            "55\n",
            "57\n",
            "59\n",
            "61\n",
            "63\n",
            "65\n",
            "67\n",
            "69\n",
            "71\n",
            "73\n",
            "75\n",
            "77\n",
            "79\n",
            "81\n",
            "83\n",
            "85\n",
            "87\n",
            "89\n",
            "91\n",
            "93\n",
            "95\n",
            "97\n",
            "99\n"
          ]
        }
      ]
    },
    {
      "cell_type": "code",
      "source": [
        "#1에서 100사이의 짝수\n",
        "for i in range(2,101,2):\n",
        "  print(i)"
      ],
      "metadata": {
        "colab": {
          "base_uri": "https://localhost:8080/"
        },
        "id": "WA5u3wYiIQda",
        "outputId": "b177b513-5bab-41c0-d613-fe327c0624ca"
      },
      "execution_count": 51,
      "outputs": [
        {
          "output_type": "stream",
          "name": "stdout",
          "text": [
            "2\n",
            "4\n",
            "6\n",
            "8\n",
            "10\n",
            "12\n",
            "14\n",
            "16\n",
            "18\n",
            "20\n",
            "22\n",
            "24\n",
            "26\n",
            "28\n",
            "30\n",
            "32\n",
            "34\n",
            "36\n",
            "38\n",
            "40\n",
            "42\n",
            "44\n",
            "46\n",
            "48\n",
            "50\n",
            "52\n",
            "54\n",
            "56\n",
            "58\n",
            "60\n",
            "62\n",
            "64\n",
            "66\n",
            "68\n",
            "70\n",
            "72\n",
            "74\n",
            "76\n",
            "78\n",
            "80\n",
            "82\n",
            "84\n",
            "86\n",
            "88\n",
            "90\n",
            "92\n",
            "94\n",
            "96\n",
            "98\n",
            "100\n"
          ]
        }
      ]
    },
    {
      "cell_type": "code",
      "source": [
        "for i in range(1,101):\n",
        "  if i%2 == 0:\n",
        "    continue\n",
        "  print(i)\n"
      ],
      "metadata": {
        "colab": {
          "base_uri": "https://localhost:8080/"
        },
        "id": "plvF32QLIWMq",
        "outputId": "6c177c57-6376-4185-dd3a-573549a10690"
      },
      "execution_count": 54,
      "outputs": [
        {
          "output_type": "stream",
          "name": "stdout",
          "text": [
            "1\n",
            "3\n",
            "5\n",
            "7\n",
            "9\n",
            "11\n",
            "13\n",
            "15\n",
            "17\n",
            "19\n",
            "21\n",
            "23\n",
            "25\n",
            "27\n",
            "29\n",
            "31\n",
            "33\n",
            "35\n",
            "37\n",
            "39\n",
            "41\n",
            "43\n",
            "45\n",
            "47\n",
            "49\n",
            "51\n",
            "53\n",
            "55\n",
            "57\n",
            "59\n",
            "61\n",
            "63\n",
            "65\n",
            "67\n",
            "69\n",
            "71\n",
            "73\n",
            "75\n",
            "77\n",
            "79\n",
            "81\n",
            "83\n",
            "85\n",
            "87\n",
            "89\n",
            "91\n",
            "93\n",
            "95\n",
            "97\n",
            "99\n"
          ]
        }
      ]
    },
    {
      "cell_type": "code",
      "source": [
        "for i in range (5):\n",
        "  if i%2==1:\n",
        "    break\n",
        "  print(i)"
      ],
      "metadata": {
        "colab": {
          "base_uri": "https://localhost:8080/"
        },
        "id": "GXfDnkrvJcAb",
        "outputId": "be3fc293-14f0-483c-9a5e-60069c26784e"
      },
      "execution_count": 55,
      "outputs": [
        {
          "output_type": "stream",
          "name": "stdout",
          "text": [
            "0\n"
          ]
        }
      ]
    },
    {
      "cell_type": "code",
      "source": [
        "#1에서 10까지의 짝수 홀수의 합 각각 구하기\n",
        "짝수합=0\n",
        "홀수합=0\n",
        "for i in range (1,11):\n",
        "  if i%2==0:\n",
        "    짝수합+=i\n",
        "  else:\n",
        "    홀수합+=i\n",
        "print(짝수합)\n",
        "print(홀수합)"
      ],
      "metadata": {
        "colab": {
          "base_uri": "https://localhost:8080/"
        },
        "id": "2rQplh-IKWWs",
        "outputId": "12d40d69-30d7-4d06-ce7c-ecb634a69573"
      },
      "execution_count": 60,
      "outputs": [
        {
          "output_type": "stream",
          "name": "stdout",
          "text": [
            "30\n",
            "25\n"
          ]
        }
      ]
    },
    {
      "cell_type": "code",
      "source": [
        "# n값을 입력\n",
        "# 1-n까지 반복\n",
        "#합을 계산\n",
        "n = int(input())\n",
        "tot=0\n",
        "for i in range (1,n+1):\n",
        "  tot+=i\n",
        "print(tot)\n",
        ""
      ],
      "metadata": {
        "colab": {
          "base_uri": "https://localhost:8080/"
        },
        "id": "WDRgR_p7LKGb",
        "outputId": "cd981878-2858-4876-c1fe-3d0d5fdf7275"
      },
      "execution_count": 62,
      "outputs": [
        {
          "output_type": "stream",
          "name": "stdout",
          "text": [
            "10\n",
            "45\n"
          ]
        }
      ]
    },
    {
      "cell_type": "code",
      "source": [],
      "metadata": {
        "id": "_AXt0PEBPP1O"
      },
      "execution_count": null,
      "outputs": []
    },
    {
      "cell_type": "code",
      "source": [],
      "metadata": {
        "id": "xeE-gFgcN51s"
      },
      "execution_count": null,
      "outputs": []
    }
  ]
}