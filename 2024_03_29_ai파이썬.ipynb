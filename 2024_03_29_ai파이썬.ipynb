{
  "nbformat": 4,
  "nbformat_minor": 0,
  "metadata": {
    "colab": {
      "provenance": [],
      "authorship_tag": "ABX9TyOn6tyor3NKFcgQ8qahiTjH",
      "include_colab_link": true
    },
    "kernelspec": {
      "name": "python3",
      "display_name": "Python 3"
    },
    "language_info": {
      "name": "python"
    }
  },
  "cells": [
    {
      "cell_type": "markdown",
      "metadata": {
        "id": "view-in-github",
        "colab_type": "text"
      },
      "source": [
        "<a href=\"https://colab.research.google.com/github/INHARYU/aipython/blob/main/2024_03_29_ai%ED%8C%8C%EC%9D%B4%EC%8D%AC.ipynb\" target=\"_parent\"><img src=\"https://colab.research.google.com/assets/colab-badge.svg\" alt=\"Open In Colab\"/></a>"
      ]
    },
    {
      "cell_type": "code",
      "execution_count": null,
      "metadata": {
        "id": "_6v-qdQSyN-g"
      },
      "outputs": [],
      "source": []
    },
    {
      "cell_type": "markdown",
      "source": [
        "파이썬의 변수\n",
        "1. 의미 있는 이름 사용\n",
        "2. 소문자와 밑줄 사용 변수일므은 모두 소문자로 작성하고 공백은 불가능하기 떄문에 언더바(_)를 사용해서 가독성을 높이자.\n",
        "3. 명확하고 일관된 스타일 사용. 변수명에 접두사나 접미사를 사용하는 것도 도움이 된다. 예를 들어 _list를 붙이거나, _array 등 그 변수의 역할을 변수명에 사용한다.\n",
        "4. 예약어 피하기. 파이썬이 미리 사용하고 있는 단어들은 변수이름으로 사용하지 않게 주의해야한다."
      ],
      "metadata": {
        "id": "aDl1pVfPycw3"
      }
    },
    {
      "cell_type": "markdown",
      "source": [
        "파이썬의 예약어\n",
        "1. False, True, eles 등 수많은 예약어들이 있다.\n",
        "2. 이를 변수이름으로 사용하고자 하면 신텍스 오류(문법오류)를 발생시킨다.\n",
        "3. class는 예약어이기 때문에 변수이름으로 사용불가능.\n"
      ],
      "metadata": {
        "id": "6zRwviCGzAMH"
      }
    },
    {
      "cell_type": "markdown",
      "source": [
        "파이썬의 변수 데이터 타입\n",
        "1. 정수형(integer)\n",
        "2. 실수형(float)\n",
        "3. 문자형(str)\n",
        "4. 부울형(boolean)\n"
      ],
      "metadata": {
        "id": "SZ3QNnRDz9Av"
      }
    },
    {
      "cell_type": "code",
      "source": [
        "a=3\n",
        "b=5\n",
        "print(a+b)\n"
      ],
      "metadata": {
        "colab": {
          "base_uri": "https://localhost:8080/"
        },
        "id": "BT5DcXvf0g7m",
        "outputId": "0b6c4eeb-8093-4635-b712-153860f1bfad"
      },
      "execution_count": null,
      "outputs": [
        {
          "output_type": "stream",
          "name": "stdout",
          "text": [
            "8\n"
          ]
        }
      ]
    },
    {
      "cell_type": "code",
      "source": [
        "#문자열\n",
        "a='3'\n",
        "b='5'\n",
        "a+b"
      ],
      "metadata": {
        "colab": {
          "base_uri": "https://localhost:8080/",
          "height": 35
        },
        "id": "O58Gh35n1oOf",
        "outputId": "43976fc5-317e-4913-b12d-b253a2f8927f"
      },
      "execution_count": null,
      "outputs": [
        {
          "output_type": "execute_result",
          "data": {
            "text/plain": [
              "'35'"
            ],
            "application/vnd.google.colaboratory.intrinsic+json": {
              "type": "string"
            }
          },
          "metadata": {},
          "execution_count": 6
        }
      ]
    },
    {
      "cell_type": "markdown",
      "source": [
        "파이썬의 강제 형 변환: 타입변환환수명(변수"
      ],
      "metadata": {
        "id": "fqTLGyaK0G5W"
      }
    },
    {
      "cell_type": "code",
      "source": [
        "#파이썬의 강제 형 변환: 타입변환환수명(변수)\n",
        "a='3'\n",
        "b=int(a)\n",
        "print(type(a),a)\n",
        "print(type(b),b)"
      ],
      "metadata": {
        "colab": {
          "base_uri": "https://localhost:8080/"
        },
        "id": "Di9heMtJ0GlW",
        "outputId": "969aa626-573b-4e04-e344-eebbd53c1d31"
      },
      "execution_count": null,
      "outputs": [
        {
          "output_type": "stream",
          "name": "stdout",
          "text": [
            "<class 'str'> 3\n",
            "<class 'int'> 3\n"
          ]
        }
      ]
    },
    {
      "cell_type": "code",
      "source": [
        "#input 함수\n",
        "#문자를 숫자열로 바꾸기 int(a)+1 or a=int(input(\"당신의 나이는?\")애초에 입력받을 때 int로 받자."
      ],
      "metadata": {
        "id": "ZcHDMy6O0TlA"
      },
      "execution_count": null,
      "outputs": []
    },
    {
      "cell_type": "code",
      "source": [
        "name=\"홍길동\"\n",
        "age=30\n",
        "print(\"이름: %s, 나이: %d\" % (name, age))\n",
        "print(\"이름: {}, 나이: {}\".format(name, age))\n",
        "print(\"이름: %10s, 나이: %10d\" % (name, age)) # 자릿수의 차이"
      ],
      "metadata": {
        "colab": {
          "base_uri": "https://localhost:8080/"
        },
        "id": "MQJSSSxB47R_",
        "outputId": "ff49162e-ab95-4320-8347-ae2a7777d42a"
      },
      "execution_count": null,
      "outputs": [
        {
          "output_type": "stream",
          "name": "stdout",
          "text": [
            "이름: 홍길동, 나이: 30\n",
            "이름: 홍길동, 나이: 30\n",
            "이름:        홍길동, 나이:         30\n"
          ]
        }
      ]
    },
    {
      "cell_type": "code",
      "source": [
        "# \"=\"은 할당 연산자, 대입 연산자\n",
        "# \"==\"은 비교 연산자\n",
        "#비교 연산자의 값은 True, False\n",
        "#논리 연산자는 조건1 and 조건2, 조건1 or 조건2, not\n",
        "\n",
        "\n",
        "\n"
      ],
      "metadata": {
        "colab": {
          "base_uri": "https://localhost:8080/",
          "height": 110
        },
        "id": "HkBSxepj47AX",
        "outputId": "293abe18-44e8-45dd-bd46-055d63a03bf4"
      },
      "execution_count": null,
      "outputs": [
        {
          "output_type": "error",
          "ename": "SyntaxError",
          "evalue": "invalid syntax (<ipython-input-13-3ebbaef6faa1>, line 4)",
          "traceback": [
            "\u001b[0;36m  File \u001b[0;32m\"<ipython-input-13-3ebbaef6faa1>\"\u001b[0;36m, line \u001b[0;32m4\u001b[0m\n\u001b[0;31m    비교 연산자의 값은 True, False\u001b[0m\n\u001b[0m       ^\u001b[0m\n\u001b[0;31mSyntaxError\u001b[0m\u001b[0;31m:\u001b[0m invalid syntax\n"
          ]
        }
      ]
    },
    {
      "cell_type": "markdown",
      "source": [],
      "metadata": {
        "id": "ejFRf7rs8Y7Y"
      }
    },
    {
      "cell_type": "code",
      "source": [
        "#1 분을 입력받아서 시간과 분을 출력하시오\n",
        "a=int(input(\"분을 입력하세요.\"))\n",
        "b=a//60\n",
        "c=a%60\n",
        "print(\"%d시간 %d분\"%(b,c))"
      ],
      "metadata": {
        "colab": {
          "base_uri": "https://localhost:8080/"
        },
        "id": "dSA5_fzpBP9Z",
        "outputId": "88369245-f778-4c2f-ca23-98efced91d3f"
      },
      "execution_count": null,
      "outputs": [
        {
          "output_type": "stream",
          "name": "stdout",
          "text": [
            "분을 입력하세요100\n",
            "1시간 40분\n"
          ]
        }
      ]
    },
    {
      "cell_type": "code",
      "source": [
        "#1 분을 입력받아서 시간과 분을 출력하시오 (.format 매소드 활용)\n",
        "a=int(input(\"분을 입력하세요.\"))\n",
        "b=a//60\n",
        "c=a%60\n",
        "print(\"{:d}시간 {:d}분\".format(b,c))"
      ],
      "metadata": {
        "colab": {
          "base_uri": "https://localhost:8080/"
        },
        "id": "O6egU5zkDalZ",
        "outputId": "8f893ff9-5e8d-4347-8990-e3c5c2225777"
      },
      "execution_count": null,
      "outputs": [
        {
          "output_type": "stream",
          "name": "stdout",
          "text": [
            "분을 입력하세요.150\n",
            "2시간 30분\n"
          ]
        }
      ]
    },
    {
      "cell_type": "code",
      "source": [
        "#모범답안\n",
        "in_m=int(input(\"분을 입력하시오\"))\n",
        "h=in_m//60\n",
        "m=in_m%60\n",
        "print(\"{:d} -> {:d}시간 {:d}분\".format(in_m,h,m))\n"
      ],
      "metadata": {
        "colab": {
          "base_uri": "https://localhost:8080/"
        },
        "id": "IHKGCwySGiqT",
        "outputId": "f356f0b2-67b1-4433-d268-95504a6ba447"
      },
      "execution_count": null,
      "outputs": [
        {
          "output_type": "stream",
          "name": "stdout",
          "text": [
            "분을 입력하시오100\n",
            "100 -> 1시간 40분\n"
          ]
        }
      ]
    },
    {
      "cell_type": "code",
      "source": [
        "#2 섭씨 온도를 입력받아서 화씨온도를 출력하시오 %연산자 사용\n",
        "a=int(input(\"섭씨 온도를 입력하세요.\"))\n",
        "F=a*1.8+32\n",
        "print(\"섭씨 %d도는 화씨 %3.1f도 입니다\"%(a,F))"
      ],
      "metadata": {
        "colab": {
          "base_uri": "https://localhost:8080/"
        },
        "id": "Bu7AOw7sBe75",
        "outputId": "a0deb57e-4aac-4a4f-c802-187454be0f0b"
      },
      "execution_count": null,
      "outputs": [
        {
          "output_type": "stream",
          "name": "stdout",
          "text": [
            "섭씨 온도를 입력하세요.31\n",
            "섭씨 31도는 화씨 87.8도 입니다\n"
          ]
        }
      ]
    },
    {
      "cell_type": "code",
      "source": [
        "#모범 답안\n",
        "c_t=int(input(\"섭씨 온도를 입력하시오\"))\n",
        "f_t=c_t * 1.8 +32\n",
        "print(\"섭씨 %d 도는 화씨 %.1f도 입니다.\"%(c_t, f_t))"
      ],
      "metadata": {
        "colab": {
          "base_uri": "https://localhost:8080/"
        },
        "id": "0n43DG3_Hv6S",
        "outputId": "9bcbfc29-c915-42f6-ffe3-6a5c2bdb4d3b"
      },
      "execution_count": null,
      "outputs": [
        {
          "output_type": "stream",
          "name": "stdout",
          "text": [
            "섭씨 온도를 입력하시오31\n",
            "섭씨 31 도는 화씨 87.8도 입니다.\n"
          ]
        }
      ]
    },
    {
      "cell_type": "code",
      "source": [
        "#3 원의 반지름을 입력받아서 원의 둘레와 면적을 출력하시오.(PI=3.14)\n",
        "r=int(input(\"원의 반지름을 입력하시오\"))\n",
        "b= 2*3.14*r\n",
        "c= 3.14*r*r\n",
        "print(\"반지름이 %d인 원의 둘레는 %3.1f이고 면적은 %4.1f입니다\"%(r,b,c))"
      ],
      "metadata": {
        "colab": {
          "base_uri": "https://localhost:8080/"
        },
        "id": "NsevkVXQB2Hq",
        "outputId": "67051066-a1c2-4c38-d259-f1a35727bcd4"
      },
      "execution_count": null,
      "outputs": [
        {
          "output_type": "stream",
          "name": "stdout",
          "text": [
            "원의 반지름을 입력하시오15\n",
            "반지름이 15인 원의 둘레는 94.2이고 면적은 706.5입니다\n"
          ]
        }
      ]
    },
    {
      "cell_type": "code",
      "source": [
        "#모범 답안(상수값은 대게 대문자로 표기)\n",
        "PI=3.14\n",
        "r=int(input(\"원의 반지름을 입력하시오\"))\n",
        "circumference = 2 * PI * r\n",
        "area = PI * (r ** 2)\n",
        "print(\"반지름이 {}인 원의 둘레 {}이고 면적은 {} 입니다\".format(r,circumference, area))"
      ],
      "metadata": {
        "colab": {
          "base_uri": "https://localhost:8080/"
        },
        "id": "tLrxwqm9DPc7",
        "outputId": "a82cb69f-e0d2-41f5-d2e1-96db4a719daa"
      },
      "execution_count": null,
      "outputs": [
        {
          "output_type": "stream",
          "name": "stdout",
          "text": [
            "원의 반지름을 입력하시오15\n",
            "반지름이 15인 원의 둘레 94.2이고 면적은 706.5 입니다\n"
          ]
        }
      ]
    },
    {
      "cell_type": "code",
      "source": [
        "a= \"PYTHON\"\n",
        "#a[2]\n",
        "#a[-4]\n",
        "#a[1:3] : YT, 파이썬에서는 마지막 끝 인덱스는 포함하지 않는다. 3번째 인덱스까지 추출하는 것이 아니라 3번째 인덱스 -1 까지 추출한다.\n",
        "#시작 인덱스는 포함, 마지막 인덱스는 포함 안됌.\n",
        "#a[:4] : pyth\n",
        "#a[3:] : hon\n",
        "#a[:] : python\n",
        "#a[0:5:2]"
      ],
      "metadata": {
        "id": "Cixyar4oJM-6"
      },
      "execution_count": null,
      "outputs": []
    },
    {
      "cell_type": "code",
      "source": [],
      "metadata": {
        "id": "ispv7eOkKX3-"
      },
      "execution_count": null,
      "outputs": []
    }
  ]
}