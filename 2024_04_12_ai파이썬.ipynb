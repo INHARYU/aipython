{
  "nbformat": 4,
  "nbformat_minor": 0,
  "metadata": {
    "colab": {
      "provenance": [],
      "authorship_tag": "ABX9TyOMJ8liND/WGUu4OnaB3U7V",
      "include_colab_link": true
    },
    "kernelspec": {
      "name": "python3",
      "display_name": "Python 3"
    },
    "language_info": {
      "name": "python"
    }
  },
  "cells": [
    {
      "cell_type": "markdown",
      "metadata": {
        "id": "view-in-github",
        "colab_type": "text"
      },
      "source": [
        "<a href=\"https://colab.research.google.com/github/INHARYU/aipython/blob/main/2024_04_12_ai%ED%8C%8C%EC%9D%B4%EC%8D%AC.ipynb\" target=\"_parent\"><img src=\"https://colab.research.google.com/assets/colab-badge.svg\" alt=\"Open In Colab\"/></a>"
      ]
    },
    {
      "cell_type": "code",
      "execution_count": null,
      "metadata": {
        "id": "VWY8CXsn3x7F"
      },
      "outputs": [],
      "source": []
    },
    {
      "cell_type": "markdown",
      "source": [
        "파이썬 자료 구조\n",
        "\n",
        "목적\n",
        "1. 데이터의 조직화\n",
        "2. 데이터 접근조직\n",
        "3. 성능 향상\n",
        "\n",
        "자료구조의 유형\n",
        "1. 선형자료구조: 리스트, 튜플, 스택, 큐 등\n",
        "2. 비선형자료구조: 트리, 그래프 등\n",
        "3. 연관 배열 자료구조: 딕셔너리, 앱 등\n",
        "\n",
        "파이썬 자료구조 유형\n",
        "1.리스트[]: 순서 있음, 순서 변경 가능, [숫자, 문자열, 실수] 따옴표로 숫자와 문자열 구분, 파이썬에서 기본적으로 사용 가능.\n",
        "1-1 list vs array: 리스트는 서로 다른 유형의 데이터를 포함할 수 있다. array는 동일한 유형의 데이터만 포함한다. ex 숫자중에서도 정수만, or 문자면 문자만 array로 만든다.\n",
        "메모리 성능 상 같은 유형을 사용하면 효율적이다.\n",
        "2.튜플()\n",
        "3.세트{}\n",
        "4.딕셔너리(): 키와 값의 쌍으로 구성된 항목의 컬렉션.\n",
        "왼쪽은 키 오른쪽은 값.\n",
        "\n",
        "함수와 메소드의 차이\n",
        "함수는 function (기능)\n",
        "메소드는 method (방법)\n",
        "차이점은 기본적으로 함수는 독립적으로 정의된다. 메소드는 클래스 또는 객체에 속해 있다.\n",
        "메소드와 함수의 호출 방법은 이름을 쓰면 된다.\n",
        "\n",
        "x.remove x.pop. x.clear --> 메소드\n",
        "x.append x.insert --> 메소드\n",
        "O.OOOO --> 메소드 형태\n",
        "print, input, min max sum는 함수. 정의 안하고 쓰는 파이썬 내장 함수. 이런 함수를 라이브러리\n"
      ],
      "metadata": {
        "id": "b5xhNKDd32Yz"
      }
    },
    {
      "cell_type": "code",
      "source": [
        "# 리스트 생성\n",
        "a = [10, 20, 30, 40]\n",
        "b = ['one', 'two', 'three', 'four']\n",
        "c = [10, 20, 'one', 'two']\n",
        "d = [10, 20 ['one', 'two']]\n",
        "#리스트는 인덱스(순서)를 생성, 리스트 안에 리스트 구조 가능.\n",
        "\n",
        "#빈 리스트 생성\n",
        "a = []\n",
        "a = list()\n"
      ],
      "metadata": {
        "id": "mJoavskU9uO0"
      },
      "execution_count": null,
      "outputs": []
    },
    {
      "cell_type": "code",
      "source": [
        "x = [10, 20, 30, 40]\n",
        "\n",
        "print(x)\n",
        "print(x[0], x[3])\n",
        "print(x[1:3]) # : 슬라이싱 뒤에꺼 포함 x"
      ],
      "metadata": {
        "colab": {
          "base_uri": "https://localhost:8080/"
        },
        "id": "Mgkx9T0D-eFr",
        "outputId": "58337097-9fa9-4b9e-c51f-4dba47ed5829"
      },
      "execution_count": 1,
      "outputs": [
        {
          "output_type": "stream",
          "name": "stdout",
          "text": [
            "[10, 20, 30, 40]\n",
            "10 40\n",
            "[20, 30]\n"
          ]
        }
      ]
    },
    {
      "cell_type": "code",
      "source": [
        "f=[＂게임\",＂독서\"]\n",
        "print(f)\n",
        "f[0]=＂스포츠\"\n",
        "print(f)\n",
        "f[2]=＂음악\""
      ],
      "metadata": {
        "colab": {
          "base_uri": "https://localhost:8080/",
          "height": 110
        },
        "id": "yF8bYRMt-m3U",
        "outputId": "4e1fee73-df02-41c4-f417-64c5accd3dd1"
      },
      "execution_count": 2,
      "outputs": [
        {
          "output_type": "error",
          "ename": "SyntaxError",
          "evalue": "invalid character '＂' (U+FF02) (<ipython-input-2-499f64ee0699>, line 1)",
          "traceback": [
            "\u001b[0;36m  File \u001b[0;32m\"<ipython-input-2-499f64ee0699>\"\u001b[0;36m, line \u001b[0;32m1\u001b[0m\n\u001b[0;31m    f=[＂게임\",＂독서\"]\u001b[0m\n\u001b[0m       ^\u001b[0m\n\u001b[0;31mSyntaxError\u001b[0m\u001b[0;31m:\u001b[0m invalid character '＂' (U+FF02)\n"
          ]
        }
      ]
    },
    {
      "cell_type": "code",
      "source": [
        "# 리스트에 사용하는 메소드 append(값): 해당 리스트에 끝에 추가.  insert(인덱스 값): 해당 인덱스 번호에 해당하는 위치에 값을 삽입, extend(리스트)\n",
        "x=[20]\n",
        "print(x)\n",
        "x.append(30)\n",
        "print(x)\n",
        "x.insert(0,10)\n",
        "print(x)\n",
        "x.extend([40,50])\n",
        "print(x)\n",
        "y=[1,2]\n",
        "z=x+y\n",
        "print(z)"
      ],
      "metadata": {
        "colab": {
          "base_uri": "https://localhost:8080/"
        },
        "id": "cTyl1P3G_Mmw",
        "outputId": "0e2a1cde-6ed4-4765-8de7-91cf0cc5e35a"
      },
      "execution_count": 3,
      "outputs": [
        {
          "output_type": "stream",
          "name": "stdout",
          "text": [
            "[20]\n",
            "[20, 30]\n",
            "[10, 20, 30]\n",
            "[10, 20, 30, 40, 50]\n",
            "[10, 20, 30, 40, 50, 1, 2]\n"
          ]
        }
      ]
    },
    {
      "cell_type": "code",
      "source": [
        "# 메소드 삭제 pop(인덱스 번호): 해당 인덱스의 데이터를 삭제. remove(값): 해당 값을 삭제 clear()리스트 전체를 삭제\n",
        "x=[10,20,30,40]\n",
        "x.remove(10)\n",
        "print(x)\n",
        "x.pop(2)\n",
        "print(x)\n",
        "x.clear()\n",
        "print(x)"
      ],
      "metadata": {
        "colab": {
          "base_uri": "https://localhost:8080/"
        },
        "id": "S8dNcT_c_7zr",
        "outputId": "8a68b3ca-677b-42cb-da3b-2cef9dbe58d0"
      },
      "execution_count": 4,
      "outputs": [
        {
          "output_type": "stream",
          "name": "stdout",
          "text": [
            "[20, 30, 40]\n",
            "[20, 30]\n",
            "[]\n"
          ]
        }
      ]
    },
    {
      "cell_type": "code",
      "source": [
        "x=[10,20,30,10,10]\n",
        "print(x.index(30))\n",
        "print(x.count(10))"
      ],
      "metadata": {
        "colab": {
          "base_uri": "https://localhost:8080/"
        },
        "id": "PMs3MbaHAX4a",
        "outputId": "3cf6456d-81f7-4dd2-a363-380dd760d2fa"
      },
      "execution_count": 5,
      "outputs": [
        {
          "output_type": "stream",
          "name": "stdout",
          "text": [
            "2\n",
            "3\n"
          ]
        }
      ]
    },
    {
      "cell_type": "code",
      "source": [
        "개설과목 = ['컴퓨터','파이썬','인공지능']\n",
        "if '파이썬' in 개설과목:\n",
        "print('파이썬 과목이 개설 되었습니다.')\n",
        "for 과목 in 개설과목:\n",
        "print(과목)"
      ],
      "metadata": {
        "id": "VRR65sUMA0x6"
      },
      "execution_count": null,
      "outputs": []
    },
    {
      "cell_type": "code",
      "source": [
        "a=[10,20,30]\n",
        "print(\"최솟값:\", min(a))\n",
        "print(\"최댓값:\", max(a))\n",
        "print(\"합 계:\", sum(a))"
      ],
      "metadata": {
        "colab": {
          "base_uri": "https://localhost:8080/"
        },
        "id": "NkA4aJ-jCMtS",
        "outputId": "3f03ab95-ff10-46b9-c543-65d81ed1b7d3"
      },
      "execution_count": 6,
      "outputs": [
        {
          "output_type": "stream",
          "name": "stdout",
          "text": [
            "최솟값: 10\n",
            "최댓값: 30\n",
            "합 계: 60\n"
          ]
        }
      ]
    },
    {
      "cell_type": "code",
      "source": [
        "# 다음 리스트에서 \"apple\" 요소를 출력하세요\n",
        "fruits = [\"banana\", \"apple\", \"orange\", \"cherry\"]\n",
        "print(fruits[1])\n",
        "# 다음 리스트에서 마지막 요소를 출력하세요\n",
        "numbers = [10, 20, 30, 40, 50]\n",
        "print(numbers[-1])\n"
      ],
      "metadata": {
        "colab": {
          "base_uri": "https://localhost:8080/",
          "height": 257
        },
        "id": "rbs2On0lCNBq",
        "outputId": "4f39db67-f12c-4f2f-ac3a-ee4b1b3e764a"
      },
      "execution_count": 11,
      "outputs": [
        {
          "output_type": "stream",
          "name": "stdout",
          "text": [
            "apple\n",
            "50\n"
          ]
        },
        {
          "output_type": "error",
          "ename": "AttributeError",
          "evalue": "'list' object has no attribute 'i'",
          "traceback": [
            "\u001b[0;31m---------------------------------------------------------------------------\u001b[0m",
            "\u001b[0;31mAttributeError\u001b[0m                            Traceback (most recent call last)",
            "\u001b[0;32m<ipython-input-11-b677cfbe1603>\u001b[0m in \u001b[0;36m<cell line: 9>\u001b[0;34m()\u001b[0m\n\u001b[1;32m      7\u001b[0m \u001b[0;31m#다음 리스트에서 banana요소를 grape로 변경하세요\u001b[0m\u001b[0;34m\u001b[0m\u001b[0;34m\u001b[0m\u001b[0m\n\u001b[1;32m      8\u001b[0m \u001b[0mfruits\u001b[0m \u001b[0;34m=\u001b[0m \u001b[0;34m[\u001b[0m\u001b[0;34m\"banana\"\u001b[0m\u001b[0;34m,\u001b[0m \u001b[0;34m\"apple\"\u001b[0m\u001b[0;34m,\u001b[0m \u001b[0;34m\"orange\"\u001b[0m\u001b[0;34m,\u001b[0m \u001b[0;34m\"cherry\"\u001b[0m\u001b[0;34m]\u001b[0m\u001b[0;34m\u001b[0m\u001b[0;34m\u001b[0m\u001b[0m\n\u001b[0;32m----> 9\u001b[0;31m \u001b[0mfruits\u001b[0m\u001b[0;34m.\u001b[0m\u001b[0mi\u001b[0m\u001b[0;34m\u001b[0m\u001b[0;34m\u001b[0m\u001b[0m\n\u001b[0m\u001b[1;32m     10\u001b[0m \u001b[0;31m# 다음 리스트에 straweberry 요소를 추가하세요\u001b[0m\u001b[0;34m\u001b[0m\u001b[0;34m\u001b[0m\u001b[0m\n\u001b[1;32m     11\u001b[0m \u001b[0mfruits\u001b[0m\u001b[0;34m.\u001b[0m\u001b[0mappend\u001b[0m\u001b[0;34m(\u001b[0m\u001b[0mstraweberry\u001b[0m\u001b[0;34m)\u001b[0m\u001b[0;34m\u001b[0m\u001b[0;34m\u001b[0m\u001b[0m\n",
            "\u001b[0;31mAttributeError\u001b[0m: 'list' object has no attribute 'i'"
          ]
        }
      ]
    },
    {
      "cell_type": "code",
      "source": [
        "#다음 리스트에서 banana요소를 grape로 변경하세요\n",
        "fruits = [\"banana\", \"apple\", \"orange\", \"cherry\"]\n",
        "fruits[0]= \"grape\"\n",
        "print(fruits)"
      ],
      "metadata": {
        "colab": {
          "base_uri": "https://localhost:8080/"
        },
        "id": "eC-gxLqFDUjS",
        "outputId": "26169585-1b54-46cd-9b45-3300a03bbcb8"
      },
      "execution_count": 21,
      "outputs": [
        {
          "output_type": "stream",
          "name": "stdout",
          "text": [
            "['grape', 'apple', 'orange', 'cherry']\n"
          ]
        }
      ]
    },
    {
      "cell_type": "code",
      "source": [
        "# 다음 리스트에 straweberry 요소를 추가하세요\n",
        "fruits = [\"banana\", \"apple\", \"orange\", \"cherry\"]\n",
        "fruits.append(\"straweberry\")\n",
        "print(fruits)"
      ],
      "metadata": {
        "colab": {
          "base_uri": "https://localhost:8080/"
        },
        "id": "65mqTCitDWuy",
        "outputId": "969a63f6-0e0f-4402-91f3-d7f01f64f7c7"
      },
      "execution_count": 14,
      "outputs": [
        {
          "output_type": "stream",
          "name": "stdout",
          "text": [
            "['banana', 'apple', 'orange', 'cherry', 'straweberry']\n"
          ]
        }
      ]
    },
    {
      "cell_type": "code",
      "source": [
        "# 다음 리스트에서 30을 제거하세요\n",
        "numbers = [10, 20, 30, 40, 50]\n",
        "numbers.remove(30)\n",
        "print(numbers)"
      ],
      "metadata": {
        "colab": {
          "base_uri": "https://localhost:8080/"
        },
        "id": "aIejNaOgCiFq",
        "outputId": "37ba99c5-3fe4-4ffd-85b0-2d2e74ec0425"
      },
      "execution_count": 12,
      "outputs": [
        {
          "output_type": "stream",
          "name": "stdout",
          "text": [
            "[10, 20, 40, 50]\n"
          ]
        }
      ]
    },
    {
      "cell_type": "code",
      "source": [
        "# 다음 리스트에서 30을 제거하세요\n",
        "numbers = [10, 20, 30, 40, 50]\n",
        "numbers.pop(2)\n",
        "print(numbers)"
      ],
      "metadata": {
        "colab": {
          "base_uri": "https://localhost:8080/"
        },
        "id": "15rm80h3GAJi",
        "outputId": "51b84d51-8b34-463c-bb76-103c4b8a4dfa"
      },
      "execution_count": 23,
      "outputs": [
        {
          "output_type": "stream",
          "name": "stdout",
          "text": [
            "[10, 20, 40, 50]\n"
          ]
        }
      ]
    },
    {
      "cell_type": "code",
      "source": [
        "#다음 리스트의 길이를 출력하세요\n",
        "numbers = [5, 10, 15, 20, 25]\n",
        "print(len(numbers))"
      ],
      "metadata": {
        "colab": {
          "base_uri": "https://localhost:8080/"
        },
        "id": "io91jCXaDRAq",
        "outputId": "4c6d54b5-6d53-4a0c-bd20-fdc4f0ede12a"
      },
      "execution_count": 18,
      "outputs": [
        {
          "output_type": "stream",
          "name": "stdout",
          "text": [
            "5\n"
          ]
        }
      ]
    },
    {
      "cell_type": "code",
      "source": [
        "# 다음 리스트에서 가장 작은 값/ 가장 큰 값을 찾아 출력하세요\n",
        "numbers = [10, 5, 8, 3, 15]\n",
        "print(max(numbers))\n",
        "print(min(numbers))"
      ],
      "metadata": {
        "colab": {
          "base_uri": "https://localhost:8080/"
        },
        "id": "bK3698_tD0Ja",
        "outputId": "196725b1-19fa-4334-fb5e-b442484aa10d"
      },
      "execution_count": 19,
      "outputs": [
        {
          "output_type": "stream",
          "name": "stdout",
          "text": [
            "15\n",
            "3\n"
          ]
        }
      ]
    },
    {
      "cell_type": "code",
      "source": [
        "#  다음 리스트의 모든 요소의 합을 계산하여 출력하세요\n",
        "numbers = [10, 20, 30, 40, 50]\n",
        "print(sum(numbers))"
      ],
      "metadata": {
        "colab": {
          "base_uri": "https://localhost:8080/"
        },
        "id": "oA3ctjiyEBPK",
        "outputId": "b2e641a9-9ffd-450a-bad6-3cc7b6602dee"
      },
      "execution_count": 20,
      "outputs": [
        {
          "output_type": "stream",
          "name": "stdout",
          "text": [
            "150\n"
          ]
        }
      ]
    },
    {
      "cell_type": "code",
      "source": [
        "# 다음 리스트의 모든 요소를 제곱하여 새로운 리스트를 생성하세요\n",
        "numbers = [1, 2, 3, 4, 5]\n",
        "newlst=[]\n",
        "for num in numbers:\n",
        "  newlst.append(num**2)\n",
        "print(newlst)"
      ],
      "metadata": {
        "colab": {
          "base_uri": "https://localhost:8080/"
        },
        "id": "YMN2fxfrEJsq",
        "outputId": "877116eb-7c68-4c17-d42e-59ad89fd8d09"
      },
      "execution_count": 43,
      "outputs": [
        {
          "output_type": "stream",
          "name": "stdout",
          "text": [
            "[1, 4, 9, 16, 25]\n"
          ]
        }
      ]
    },
    {
      "cell_type": "code",
      "source": [
        "# 다음 리스트에서 \"apple\" 요소의 개수를 출력하세요\n",
        "fruits = [\"apple\", \"banana\", \"apple\", \"cherry\", \"apple\"]\n",
        "print(fruits.count(\"apple\"))"
      ],
      "metadata": {
        "colab": {
          "base_uri": "https://localhost:8080/"
        },
        "id": "Q59VAEx0Ebf6",
        "outputId": "1b4eedff-db8d-4964-93e4-31f2c8aaeacf"
      },
      "execution_count": 22,
      "outputs": [
        {
          "output_type": "stream",
          "name": "stdout",
          "text": [
            "3\n"
          ]
        }
      ]
    },
    {
      "cell_type": "code",
      "source": [
        "#함수사용 이유: 코드의 재사용성을 높이고, 프로그램을 모듀로하 하여 관리하기 위해 사용한다.\n",
        "#함수 이름은 식별자 규칙을 따라야 한다. 함수의 동장을 나타내는 대표 이름으로 적자.\n",
        "#매개변수는 함수가 입력받는 값.\n",
        "def add(a, b):\n",
        "  result = a+ b\n",
        "  return result\n",
        "# 함수 호출\n",
        "sum_result = add (3, 23)\n",
        "print(sum_result)"
      ],
      "metadata": {
        "colab": {
          "base_uri": "https://localhost:8080/"
        },
        "id": "pc1x8Vu1EquN",
        "outputId": "fc2b2b69-8758-4b2c-b8c5-fa9029dec3d9"
      },
      "execution_count": 34,
      "outputs": [
        {
          "output_type": "stream",
          "name": "stdout",
          "text": [
            "26\n"
          ]
        }
      ]
    },
    {
      "cell_type": "code",
      "source": [
        "def square(x):\n",
        "  result=x**2\n",
        "  return result\n"
      ],
      "metadata": {
        "id": "MRnS6jW5KjDJ"
      },
      "execution_count": 47,
      "outputs": []
    },
    {
      "cell_type": "code",
      "source": [
        "ret=square(5)\n",
        "print(ret)\n",
        "print(square(5))\n",
        "print(square(10))\n",
        "print(square(15))\n",
        "print(square(20))"
      ],
      "metadata": {
        "colab": {
          "base_uri": "https://localhost:8080/"
        },
        "id": "p1-868m2LWFR",
        "outputId": "87de4772-3eee-441f-ea32-4eb941c5099b"
      },
      "execution_count": 42,
      "outputs": [
        {
          "output_type": "stream",
          "name": "stdout",
          "text": [
            "25\n",
            "25\n",
            "100\n",
            "225\n",
            "400\n"
          ]
        }
      ]
    },
    {
      "cell_type": "code",
      "source": [
        "def square(numbers):\n",
        "    newlst = []\n",
        "    for num in numbers:\n",
        "        newlst.append(num ** 2)\n",
        "    return newlst\n",
        "\n",
        "new = square([1, 2, 3, 4, 5])\n",
        "print(new)\n"
      ],
      "metadata": {
        "colab": {
          "base_uri": "https://localhost:8080/"
        },
        "id": "dSAO4t3RLcZ5",
        "outputId": "b0b762b7-bf0c-4177-ac3b-ce89a7bdd8ab"
      },
      "execution_count": 67,
      "outputs": [
        {
          "output_type": "stream",
          "name": "stdout",
          "text": [
            "[1, 4, 9, 16, 25]\n"
          ]
        }
      ]
    },
    {
      "cell_type": "code",
      "source": [
        "def square_list(lst):\n",
        "    result = []\n",
        "    for num in lst:\n",
        "        result.append(num ** 2)\n",
        "    return result\n",
        "\n",
        "new = square_list([1, 2, 3, 4, 5])\n",
        "print(new)"
      ],
      "metadata": {
        "colab": {
          "base_uri": "https://localhost:8080/"
        },
        "id": "eZ-TmmHTMz96",
        "outputId": "66daea33-5c09-405a-c7d9-22c25e3b5ddb"
      },
      "execution_count": 54,
      "outputs": [
        {
          "output_type": "stream",
          "name": "stdout",
          "text": [
            "[1, 4, 9, 16, 25]\n"
          ]
        }
      ]
    },
    {
      "cell_type": "code",
      "source": [
        "def BMI(h, w):\n",
        "  height_m = h / 100\n",
        "  result = w // (height_m * height_m)\n",
        "  return result"
      ],
      "metadata": {
        "id": "5JA0QzYwPKN5"
      },
      "execution_count": 93,
      "outputs": []
    },
    {
      "cell_type": "code",
      "source": [
        "결과 = BMI(180,90)\n",
        "print(결과)"
      ],
      "metadata": {
        "colab": {
          "base_uri": "https://localhost:8080/"
        },
        "id": "9bkV-tYoNcEJ",
        "outputId": "9f98bd3d-56aa-4cd9-f6d4-726b449b07fa"
      },
      "execution_count": 94,
      "outputs": [
        {
          "output_type": "stream",
          "name": "stdout",
          "text": [
            "27.0\n"
          ]
        }
      ]
    },
    {
      "cell_type": "code",
      "source": [],
      "metadata": {
        "id": "DMV6JDWrO7Br"
      },
      "execution_count": 92,
      "outputs": []
    }
  ]
}