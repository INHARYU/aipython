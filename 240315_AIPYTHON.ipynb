{
  "nbformat": 4,
  "nbformat_minor": 0,
  "metadata": {
    "colab": {
      "provenance": []
    },
    "kernelspec": {
      "name": "python3",
      "display_name": "Python 3"
    },
    "language_info": {
      "name": "python"
    }
  },
  "cells": [
    {
      "cell_type": "markdown",
      "source": [
        "두수를 입력받아서 합을 출력하는 프로그램"
      ],
      "metadata": {
        "id": "jqz2IZ-2_23D"
      }
    },
    {
      "cell_type": "code",
      "execution_count": null,
      "metadata": {
        "colab": {
          "base_uri": "https://localhost:8080/"
        },
        "id": "unZMaPer-JlE",
        "outputId": "3719c1cc-7504-4713-b54d-a02fa226f63f"
      },
      "outputs": [
        {
          "output_type": "stream",
          "name": "stdout",
          "text": [
            "두 정수를 입력하세요 (공백으로 구분): 1 2\n",
            "두 정수의 합은: 3\n"
          ]
        }
      ],
      "source": [
        "    # 사용자로부터 두 정수 A와 B를 입력받음\n",
        "    A, B = map(int, input(\"두 정수를 입력하세요 (공백으로 구분): \").split())\n",
        "\n",
        "    # A와 B의 합을 계산하여 출력\n",
        "    sum = A + B\n",
        "    print(\"두 정수의 합은:\", sum)\n"
      ]
    },
    {
      "cell_type": "code",
      "source": [
        "print(\"hello Python\")"
      ],
      "metadata": {
        "colab": {
          "base_uri": "https://localhost:8080/"
        },
        "id": "dg6O5_X9_e1z",
        "outputId": "4d5d3b8f-dbf8-47b0-e1ac-1fbb83b49fc7"
      },
      "execution_count": null,
      "outputs": [
        {
          "output_type": "stream",
          "name": "stdout",
          "text": [
            "hello Python\n"
          ]
        }
      ]
    },
    {
      "cell_type": "code",
      "source": [],
      "metadata": {
        "id": "QBjMT6Ow_1Up"
      },
      "execution_count": null,
      "outputs": []
    },
    {
      "cell_type": "code",
      "source": [
        "def main():\n",
        "    # 사용자로부터 두 정수 A와 B를 입력받음\n",
        "    A, B = map(int, input(\"두 정수를 입력하세요 (공백으로 구분): \").split())\n",
        "\n",
        "    # A와 B를 비교하여 결과를 출력\n",
        "    if A > B:\n",
        "        print(\"A가 B보다 큽니다.\")\n",
        "    elif A < B:\n",
        "        print(\"A가 B보다 작습니다.\")\n",
        "    else:\n",
        "        print(\"A와 B가 같습니다.\")\n",
        "\n",
        "if __name__ == \"__main__\":\n",
        "    main()"
      ],
      "metadata": {
        "id": "SRBvjmHbAzGC",
        "outputId": "2cb4e25c-58b7-4086-e6ac-c116ae7ad201",
        "colab": {
          "base_uri": "https://localhost:8080/"
        }
      },
      "execution_count": null,
      "outputs": [
        {
          "output_type": "stream",
          "name": "stdout",
          "text": [
            "두 정수를 입력하세요 (공백으로 구분): 2 3\n",
            "A가 B보다 작습니다.\n"
          ]
        }
      ]
    },
    {
      "cell_type": "code",
      "source": [],
      "metadata": {
        "id": "xD20PJ8PAAkZ"
      },
      "execution_count": null,
      "outputs": []
    }
  ]
}